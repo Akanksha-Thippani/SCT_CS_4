{
  "nbformat": 4,
  "nbformat_minor": 0,
  "metadata": {
    "colab": {
      "provenance": []
    },
    "kernelspec": {
      "name": "python3",
      "display_name": "Python 3"
    },
    "language_info": {
      "name": "python"
    },
    "widgets": {
      "application/vnd.jupyter.widget-state+json": {
        "ced52db3ad3f4badb2ec556361557297": {
          "model_module": "@jupyter-widgets/controls",
          "model_name": "TextModel",
          "model_module_version": "1.5.0",
          "state": {
            "_dom_classes": [],
            "_model_module": "@jupyter-widgets/controls",
            "_model_module_version": "1.5.0",
            "_model_name": "TextModel",
            "_view_count": null,
            "_view_module": "@jupyter-widgets/controls",
            "_view_module_version": "1.5.0",
            "_view_name": "TextView",
            "continuous_update": true,
            "description": "Input:",
            "description_tooltip": null,
            "disabled": false,
            "layout": "IPY_MODEL_a1c952563f3447cb814d2acb0d69e251",
            "placeholder": "Type something...",
            "style": "IPY_MODEL_c5a7462ab14e4a9eb82c62ab2492ae8a",
            "value": ""
          }
        },
        "a1c952563f3447cb814d2acb0d69e251": {
          "model_module": "@jupyter-widgets/base",
          "model_name": "LayoutModel",
          "model_module_version": "1.2.0",
          "state": {
            "_model_module": "@jupyter-widgets/base",
            "_model_module_version": "1.2.0",
            "_model_name": "LayoutModel",
            "_view_count": null,
            "_view_module": "@jupyter-widgets/base",
            "_view_module_version": "1.2.0",
            "_view_name": "LayoutView",
            "align_content": null,
            "align_items": null,
            "align_self": null,
            "border": null,
            "bottom": null,
            "display": null,
            "flex": null,
            "flex_flow": null,
            "grid_area": null,
            "grid_auto_columns": null,
            "grid_auto_flow": null,
            "grid_auto_rows": null,
            "grid_column": null,
            "grid_gap": null,
            "grid_row": null,
            "grid_template_areas": null,
            "grid_template_columns": null,
            "grid_template_rows": null,
            "height": null,
            "justify_content": null,
            "justify_items": null,
            "left": null,
            "margin": null,
            "max_height": null,
            "max_width": null,
            "min_height": null,
            "min_width": null,
            "object_fit": null,
            "object_position": null,
            "order": null,
            "overflow": null,
            "overflow_x": null,
            "overflow_y": null,
            "padding": null,
            "right": null,
            "top": null,
            "visibility": null,
            "width": null
          }
        },
        "c5a7462ab14e4a9eb82c62ab2492ae8a": {
          "model_module": "@jupyter-widgets/controls",
          "model_name": "DescriptionStyleModel",
          "model_module_version": "1.5.0",
          "state": {
            "_model_module": "@jupyter-widgets/controls",
            "_model_module_version": "1.5.0",
            "_model_name": "DescriptionStyleModel",
            "_view_count": null,
            "_view_module": "@jupyter-widgets/base",
            "_view_module_version": "1.2.0",
            "_view_name": "StyleView",
            "description_width": ""
          }
        }
      }
    }
  },
  "cells": [
    {
      "cell_type": "code",
      "source": [
        "\n",
        "from datetime import datetime\n",
        "import ipywidgets as widgets\n",
        "from IPython.display import display\n",
        "\n",
        "ENCRYPTION_KEY = 123\n",
        "log_entries = []\n",
        "\n",
        "def encrypt(text, key):\n",
        "    return ''.join(chr(ord(c) ^ key) for c in text)\n",
        "\n",
        "def decrypt(text, key):\n",
        "    return ''.join(chr(ord(c) ^ key) for c in text)\n",
        "\n",
        "input_box = widgets.Text(\n",
        "    value='',\n",
        "    placeholder='Type something...',\n",
        "    description='Input:',\n",
        "    disabled=False\n",
        ")\n",
        "\n",
        "def on_submit(change):\n",
        "    raw_text = change['new']\n",
        "    timestamp = datetime.now().strftime(\"%Y-%m-%d %H:%M:%S\")\n",
        "    log_entry = f\"[{timestamp}] {raw_text}\"\n",
        "    encrypted = encrypt(log_entry, ENCRYPTION_KEY)\n",
        "    log_entries.append(encrypted)\n",
        "    input_box.value = ''  # Clear input\n",
        "\n",
        "    print(\"Encrypted log entry saved.\")\n",
        "\n",
        "input_box.observe(on_submit, names='value')\n",
        "display(input_box)\n"
      ],
      "metadata": {
        "colab": {
          "base_uri": "https://localhost:8080/",
          "height": 264,
          "referenced_widgets": [
            "ced52db3ad3f4badb2ec556361557297",
            "a1c952563f3447cb814d2acb0d69e251",
            "c5a7462ab14e4a9eb82c62ab2492ae8a"
          ]
        },
        "id": "iRVE6htB2zy_",
        "outputId": "d131293b-775f-470b-96ce-bd9ce2734402"
      },
      "execution_count": 11,
      "outputs": [
        {
          "output_type": "display_data",
          "data": {
            "text/plain": [
              "Text(value='', description='Input:', placeholder='Type something...')"
            ],
            "application/vnd.jupyter.widget-view+json": {
              "version_major": 2,
              "version_minor": 0,
              "model_id": "ced52db3ad3f4badb2ec556361557297"
            }
          },
          "metadata": {}
        },
        {
          "output_type": "stream",
          "name": "stdout",
          "text": [
            "Encrypted log entry saved.\n",
            "Encrypted log entry saved.\n",
            "Encrypted log entry saved.\n",
            "Encrypted log entry saved.\n",
            "Encrypted log entry saved.\n",
            "Encrypted log entry saved.\n",
            "Encrypted log entry saved.\n",
            "Encrypted log entry saved.\n",
            "Encrypted log entry saved.\n",
            "Encrypted log entry saved.\n",
            "Encrypted log entry saved.\n",
            "Encrypted log entry saved.\n"
          ]
        }
      ]
    },
    {
      "cell_type": "code",
      "source": [
        "print(\"🔓 Decrypted Log Entries:\\n\")\n",
        "for entry in log_entries:\n",
        "    print(decrypt(entry, ENCRYPTION_KEY))"
      ],
      "metadata": {
        "colab": {
          "base_uri": "https://localhost:8080/"
        },
        "id": "oXkY5U293Mn4",
        "outputId": "ebdb65d3-e0aa-48f5-f638-9c4b82c07ad2"
      },
      "execution_count": 12,
      "outputs": [
        {
          "output_type": "stream",
          "name": "stdout",
          "text": [
            "🔓 Decrypted Log Entries:\n",
            "\n",
            "[2025-10-15 17:15:14] l\n",
            "[2025-10-15 17:15:14] \n",
            "[2025-10-15 17:15:15] li\n",
            "[2025-10-15 17:15:15] \n",
            "[2025-10-15 17:15:15] lin\n",
            "[2025-10-15 17:15:15] \n",
            "[2025-10-15 17:15:15] link\n",
            "[2025-10-15 17:15:15] \n",
            "[2025-10-15 17:15:16] linke\n",
            "[2025-10-15 17:15:16] \n",
            "[2025-10-15 17:15:18] linkedin\n",
            "[2025-10-15 17:15:18] \n"
          ]
        }
      ]
    }
  ]
}